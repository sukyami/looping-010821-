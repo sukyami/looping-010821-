{
  "nbformat": 4,
  "nbformat_minor": 0,
  "metadata": {
    "colab": {
      "name": "010821.ipynb",
      "provenance": [],
      "authorship_tag": "ABX9TyP+4WdVaoc0lBgrGtdmgAYr",
      "include_colab_link": true
    },
    "kernelspec": {
      "name": "python3",
      "display_name": "Python 3"
    }
  },
  "cells": [
    {
      "cell_type": "markdown",
      "metadata": {
        "id": "view-in-github",
        "colab_type": "text"
      },
      "source": [
        "<a href=\"https://colab.research.google.com/github/sukyami/looping-010821-/blob/master/010821.ipynb\" target=\"_parent\"><img src=\"https://colab.research.google.com/assets/colab-badge.svg\" alt=\"Open In Colab\"/></a>"
      ]
    },
    {
      "cell_type": "code",
      "metadata": {
        "colab": {
          "base_uri": "https://localhost:8080/"
        },
        "id": "e68VuHJLWksn",
        "outputId": "a92dfee3-b204-4894-8bec-1099ab17ee63"
      },
      "source": [
        "for x in 'cuny':\n",
        "  print(x)"
      ],
      "execution_count": 1,
      "outputs": [
        {
          "output_type": "stream",
          "text": [
            "c\n",
            "u\n",
            "n\n",
            "y\n"
          ],
          "name": "stdout"
        }
      ]
    },
    {
      "cell_type": "code",
      "metadata": {
        "colab": {
          "base_uri": "https://localhost:8080/"
        },
        "id": "Md1f7JDEWo-p",
        "outputId": "0fde8ef4-c0d1-4ddb-a64e-30f8238a5b7b"
      },
      "source": [
        "name = [\n",
        "        'sukhyang', 'Marc','MJ','Sarah','Nicholas',\n",
        "        'Ariana','Alejandro','Safiyyah','Qiyu',\n",
        "        'Ilya','Mohsin','Adrian','Eric','Nurbu',\n",
        "        'Ace','Jiayang','Tashi','Genghis','Karen'\n",
        "        ]\n",
        "for x in name:\n",
        "  print(\"Hello \"+x+\"!\")"
      ],
      "execution_count": 6,
      "outputs": [
        {
          "output_type": "stream",
          "text": [
            "Hello sukhyang!\n",
            "Hello Marc!\n",
            "Hello MJ!\n",
            "Hello Sarah!\n",
            "Hello Nicholas!\n",
            "Hello Ariana!\n",
            "Hello Alejandro!\n",
            "Hello Safiyyah!\n",
            "Hello Qiyu!\n",
            "Hello Ilya!\n",
            "Hello Mohsin!\n",
            "Hello Adrian!\n",
            "Hello Eric!\n",
            "Hello Nurbu!\n",
            "Hello Ace!\n",
            "Hello Jiayang!\n",
            "Hello Tashi!\n",
            "Hello Genghis!\n",
            "Hello Karen!\n"
          ],
          "name": "stdout"
        }
      ]
    },
    {
      "cell_type": "code",
      "metadata": {
        "colab": {
          "base_uri": "https://localhost:8080/"
        },
        "id": "1yxrEgIoYg2X",
        "outputId": "0227ca09-1c86-465f-a4bb-365b685c2aa0"
      },
      "source": [
        "for num in range (1,10):\n",
        "  print(num)"
      ],
      "execution_count": 7,
      "outputs": [
        {
          "output_type": "stream",
          "text": [
            "1\n",
            "2\n",
            "3\n",
            "4\n",
            "5\n",
            "6\n",
            "7\n",
            "8\n",
            "9\n"
          ],
          "name": "stdout"
        }
      ]
    },
    {
      "cell_type": "code",
      "metadata": {
        "colab": {
          "base_uri": "https://localhost:8080/"
        },
        "id": "u-Zf9Bz2celb",
        "outputId": "4c96249b-5c04-4d4e-ad19-36d195d81ee5"
      },
      "source": [
        "numbers = list(range(1,11,2))\n",
        "print(numbers)"
      ],
      "execution_count": 9,
      "outputs": [
        {
          "output_type": "stream",
          "text": [
            "[1, 3, 5, 7, 9]\n"
          ],
          "name": "stdout"
        }
      ]
    },
    {
      "cell_type": "code",
      "metadata": {
        "colab": {
          "base_uri": "https://localhost:8080/"
        },
        "id": "k-B7fEhAdxID",
        "outputId": "69bbaddb-5af0-493e-b02b-879fbc7cf112"
      },
      "source": [
        "odd = [] \n",
        "for number in range(1,11):\n",
        "  if number%2 != 0:\n",
        "    odd.append(number)\n",
        "print(odd)   "
      ],
      "execution_count": 11,
      "outputs": [
        {
          "output_type": "stream",
          "text": [
            "[1, 3, 5, 7, 9]\n"
          ],
          "name": "stdout"
        }
      ]
    },
    {
      "cell_type": "code",
      "metadata": {
        "colab": {
          "base_uri": "https://localhost:8080/"
        },
        "id": "0z_SF-QQelpA",
        "outputId": "33f1093d-4da8-481d-f068-ceba8e26aa32"
      },
      "source": [
        "userInput = int (input(\"Enter the number \"))\n",
        "if userInput%2 == 0:\n",
        "  print(\"The number is even number\")\n",
        "else:\n",
        "  print(\"The number is odd number\") "
      ],
      "execution_count": 15,
      "outputs": [
        {
          "output_type": "stream",
          "text": [
            "Enter the number -3\n",
            "The number is odd number\n"
          ],
          "name": "stdout"
        }
      ]
    },
    {
      "cell_type": "code",
      "metadata": {
        "colab": {
          "base_uri": "https://localhost:8080/"
        },
        "id": "Z885OTfFfCHJ",
        "outputId": "0f51e3ee-5c12-4408-b99e-a398517f6d68"
      },
      "source": [
        "Num = int (input(\"Enter num \"))\n",
        "if Num%2 == 0:\n",
        "  print(f\"{Num} in even\")\n",
        "else:\n",
        "  print('{0} is odd'.format(Num))"
      ],
      "execution_count": 19,
      "outputs": [
        {
          "output_type": "stream",
          "text": [
            "Enter num 22\n",
            "22 in even\n"
          ],
          "name": "stdout"
        }
      ]
    },
    {
      "cell_type": "code",
      "metadata": {
        "colab": {
          "base_uri": "https://localhost:8080/"
        },
        "id": "3NVqGdnpgurH",
        "outputId": "b869d4c4-77d3-4d28-c055-9dd8cde5e665"
      },
      "source": [
        "#Prime numbers are numbers that have only 2 factors: 1 and themselves.\n",
        "prime_num = [] #create list \n",
        "for prime in range(1,100): # prime start 1 end 99 \n",
        "  for i in range(2, prime+1): # i start 2 end 100 (because the range is 2,101), prime+1 because make same number of index \n",
        "    if (i == prime): #prime divided with themselves\n",
        "      prime_num.append(prime) #add prime in prime_num list\n",
        "    elif (prime % i == 0): #If prime and i are not the same number, but divided, it is not prime\n",
        "      break #stop for i loop and go back to first for prime loop \n",
        "    #If i is not same as prime and not divided, nothing happend just continue executing the for i loop. \n",
        "    #when i \n",
        "print(prime_num)"
      ],
      "execution_count": 39,
      "outputs": [
        {
          "output_type": "stream",
          "text": [
            "[2, 3, 5, 7, 11, 13, 17, 19, 23, 29, 31, 37, 41, 43, 47, 53, 59, 61, 67, 71, 73, 79, 83, 89, 97]\n"
          ],
          "name": "stdout"
        }
      ]
    },
    {
      "cell_type": "code",
      "metadata": {
        "colab": {
          "base_uri": "https://localhost:8080/",
          "height": 266
        },
        "id": "RigYJc0rjiLW",
        "outputId": "0b9bd8ec-f96c-454a-f709-b60b82ce33ed"
      },
      "source": [
        "PrimeNum = 2\n",
        "while (PrimeNum < 100):\n",
        "  PrimeNum2 = 2 \n",
        "  while (PrimeNum2 <= (PrimeNum/PrimeNum2)):\n",
        "    if not (PrimeNum%PrimeNum2):\n",
        "      break\n",
        "    PrimeNum2 = PrimeNum2 + 1 \n",
        "  if (PrimeNum2 > PrimeNum/PrimeNum2):\n",
        "    print(PrimeNum)\n",
        "    PrimeNum = PrimeNum +1 "
      ],
      "execution_count": 33,
      "outputs": [
        {
          "output_type": "stream",
          "text": [
            "2\n",
            "3\n"
          ],
          "name": "stdout"
        },
        {
          "output_type": "error",
          "ename": "KeyboardInterrupt",
          "evalue": "ignored",
          "traceback": [
            "\u001b[0;31m---------------------------------------------------------------------------\u001b[0m",
            "\u001b[0;31mKeyboardInterrupt\u001b[0m                         Traceback (most recent call last)",
            "\u001b[0;32m<ipython-input-33-04c46abc517c>\u001b[0m in \u001b[0;36m<module>\u001b[0;34m()\u001b[0m\n\u001b[1;32m      1\u001b[0m \u001b[0mPrimeNum\u001b[0m \u001b[0;34m=\u001b[0m \u001b[0;36m2\u001b[0m\u001b[0;34m\u001b[0m\u001b[0;34m\u001b[0m\u001b[0m\n\u001b[1;32m      2\u001b[0m \u001b[0;32mwhile\u001b[0m \u001b[0;34m(\u001b[0m\u001b[0mPrimeNum\u001b[0m \u001b[0;34m<\u001b[0m \u001b[0;36m100\u001b[0m\u001b[0;34m)\u001b[0m\u001b[0;34m:\u001b[0m\u001b[0;34m\u001b[0m\u001b[0;34m\u001b[0m\u001b[0m\n\u001b[0;32m----> 3\u001b[0;31m   \u001b[0mPrimeNum2\u001b[0m \u001b[0;34m=\u001b[0m \u001b[0;36m2\u001b[0m\u001b[0;34m\u001b[0m\u001b[0;34m\u001b[0m\u001b[0m\n\u001b[0m\u001b[1;32m      4\u001b[0m   \u001b[0;32mwhile\u001b[0m \u001b[0;34m(\u001b[0m\u001b[0mPrimeNum2\u001b[0m \u001b[0;34m<=\u001b[0m \u001b[0;34m(\u001b[0m\u001b[0mPrimeNum\u001b[0m\u001b[0;34m/\u001b[0m\u001b[0mPrimeNum2\u001b[0m\u001b[0;34m)\u001b[0m\u001b[0;34m)\u001b[0m\u001b[0;34m:\u001b[0m\u001b[0;34m\u001b[0m\u001b[0;34m\u001b[0m\u001b[0m\n\u001b[1;32m      5\u001b[0m     \u001b[0;32mif\u001b[0m \u001b[0;32mnot\u001b[0m \u001b[0;34m(\u001b[0m\u001b[0mPrimeNum\u001b[0m\u001b[0;34m%\u001b[0m\u001b[0mPrimeNum2\u001b[0m\u001b[0;34m)\u001b[0m\u001b[0;34m:\u001b[0m\u001b[0;34m\u001b[0m\u001b[0;34m\u001b[0m\u001b[0m\n",
            "\u001b[0;31mKeyboardInterrupt\u001b[0m: "
          ]
        }
      ]
    },
    {
      "cell_type": "code",
      "metadata": {
        "colab": {
          "base_uri": "https://localhost:8080/"
        },
        "id": "HTt9RFxlkapx",
        "outputId": "fb9493f1-8b1c-4b1d-c6d4-1f40cb6b01d4"
      },
      "source": [
        "n=int (input('enter a number greater than 1. '))\n",
        "Match=True\n",
        "\n",
        "for num1 in range (2,n):\n",
        "    n%num1\n",
        "    if n%num1==0:\n",
        "        Match=False\n",
        "        \n",
        "if Match:\n",
        "    print('num1 is prime.')\n",
        "\n",
        "else:\n",
        "    print('num is not prime.')"
      ],
      "execution_count": 35,
      "outputs": [
        {
          "output_type": "stream",
          "text": [
            "enter a number greater than 1. 4\n",
            "num is not prime.\n"
          ],
          "name": "stdout"
        }
      ]
    },
    {
      "cell_type": "code",
      "metadata": {
        "colab": {
          "base_uri": "https://localhost:8080/"
        },
        "id": "TusEM55emqBp",
        "outputId": "67450e2e-f1d7-4a93-c8a3-1fa9fdeaf761"
      },
      "source": [
        "print(name[0:10])\n",
        "print(name[-2:])\n",
        "print(name[-1])\n",
        "print(name[2:4:6])\n",
        "print(name[0:3])\n",
        "print(name[3])\n",
        "print(name[5:9])\n",
        "print(name[2:10])\n",
        "print(name[:3])\n",
        "print(name[-3:0])"
      ],
      "execution_count": 44,
      "outputs": [
        {
          "output_type": "stream",
          "text": [
            "['sukhyang', 'Marc', 'MJ', 'Sarah', 'Nicholas', 'Ariana', 'Alejandro', 'Safiyyah', 'Qiyu', 'Ilya']\n",
            "['Genghis', 'Karen']\n",
            "Karen\n",
            "['MJ']\n",
            "['sukhyang', 'Marc', 'MJ']\n",
            "Sarah\n",
            "['Ariana', 'Alejandro', 'Safiyyah', 'Qiyu']\n",
            "['MJ', 'Sarah', 'Nicholas', 'Ariana', 'Alejandro', 'Safiyyah', 'Qiyu', 'Ilya']\n",
            "['sukhyang', 'Marc', 'MJ']\n",
            "[]\n"
          ],
          "name": "stdout"
        }
      ]
    },
    {
      "cell_type": "code",
      "metadata": {
        "id": "lUM69vgHwkn1"
      },
      "source": [
        ""
      ],
      "execution_count": null,
      "outputs": []
    }
  ]
}