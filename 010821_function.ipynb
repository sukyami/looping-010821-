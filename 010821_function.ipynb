{
  "nbformat": 4,
  "nbformat_minor": 0,
  "metadata": {
    "colab": {
      "name": "010821-function.ipynb",
      "provenance": [],
      "authorship_tag": "ABX9TyMR+XvFs50iLLMZq4kVRV6L",
      "include_colab_link": true
    },
    "kernelspec": {
      "name": "python3",
      "display_name": "Python 3"
    }
  },
  "cells": [
    {
      "cell_type": "markdown",
      "metadata": {
        "id": "view-in-github",
        "colab_type": "text"
      },
      "source": [
        "<a href=\"https://colab.research.google.com/github/sukyami/looping-010821-/blob/master/010821_function.ipynb\" target=\"_parent\"><img src=\"https://colab.research.google.com/assets/colab-badge.svg\" alt=\"Open In Colab\"/></a>"
      ]
    },
    {
      "cell_type": "code",
      "metadata": {
        "colab": {
          "base_uri": "https://localhost:8080/"
        },
        "id": "XUr4u_tOK8VG",
        "outputId": "ff65b6c9-5e61-49db-c775-6d1f737f635f"
      },
      "source": [
        "def greeting(name):\n",
        "  \"\"\"This function displays a greeting\"\"\"\n",
        "  print(\"Hello there, \"+name +\"!\")\n",
        "\n",
        "greeting('Sukhyang')"
      ],
      "execution_count": 3,
      "outputs": [
        {
          "output_type": "stream",
          "text": [
            "Hello there, Sukhyang!\n"
          ],
          "name": "stdout"
        }
      ]
    },
    {
      "cell_type": "code",
      "metadata": {
        "colab": {
          "base_uri": "https://localhost:8080/"
        },
        "id": "GdrsyMxvMq0P",
        "outputId": "6980cfac-837c-4f8f-ffd1-6eae95155be4"
      },
      "source": [
        "def greeting_2(first_name,last_name):\n",
        "  \"\"\"Greets someone by first and last name\"\"\"\n",
        "  print(\"Hello there, \"+ first_name + \" \" + last_name)\n",
        "\n",
        "greeting_2('sukhyang','Jeong')"
      ],
      "execution_count": 4,
      "outputs": [
        {
          "output_type": "stream",
          "text": [
            "Hello there, sukhyang Jeong\n"
          ],
          "name": "stdout"
        }
      ]
    },
    {
      "cell_type": "code",
      "metadata": {
        "colab": {
          "base_uri": "https://localhost:8080/"
        },
        "id": "Bnpc4c29Odsx",
        "outputId": "4ecd7c0c-8ecc-494e-f482-4503ea6f933f"
      },
      "source": [
        "def greeting_3(first_name,last_name,age):\n",
        "  \"\"\"Greets someone by first and last name\"\"\"\n",
        "  print(\"Hello there, \"+ first_name + \" \" + last_name)\n",
        "  print(\"I am \" +str(age) +\", years old\")\n",
        "\n",
        "greeting_3('sukhyang','Jeong',30)"
      ],
      "execution_count": 5,
      "outputs": [
        {
          "output_type": "stream",
          "text": [
            "Hello there, sukhyang Jeong\n",
            "I am 30, years old\n"
          ],
          "name": "stdout"
        }
      ]
    },
    {
      "cell_type": "code",
      "metadata": {
        "colab": {
          "base_uri": "https://localhost:8080/"
        },
        "id": "8_gnerCoOn3m",
        "outputId": "f631507b-d6d2-4e0d-b5ec-d9c46cef9509"
      },
      "source": [
        "def addTwo(num1,num2):\n",
        "  print(num1+num2)\n",
        "\n",
        "\n",
        "addTwo(2,3)"
      ],
      "execution_count": 7,
      "outputs": [
        {
          "output_type": "stream",
          "text": [
            "5\n"
          ],
          "name": "stdout"
        }
      ]
    },
    {
      "cell_type": "code",
      "metadata": {
        "id": "wZH75DcZU-g2"
      },
      "source": [
        "def clac(type, a, b): \n",
        "  if type == '+': \n",
        "    return a+b \n",
        "  elif type == '-': \n",
        "    return a-b\n",
        "  elif type == '/': \n",
        "    return a/b \n",
        "  elif type == '*': \n",
        "    return a*b\n",
        "\n",
        "def calculator():\n",
        "  num1 = int (input(\"Enter number : \"))\n",
        "  while (True):\n",
        "    operator1 = str (input(\"Enter operator + or - or * or / or = : \"))\n",
        "    if (operator1 == '+' or operator1 == '-' or operator1 == '/' or operator1 == '*' ):  \n",
        "      while (True):\n",
        "        num2 = int (input(\"Enter number : \"))\n",
        "        operator2 = str (input(\"Enter operator + or - or * or / or = : \"))   \n",
        "        result=clac(operator1,num1,num2)\n",
        "        if (operator2 == '='):\n",
        "          print(result)\n",
        "          break\n",
        "        elif (operator2 == '+' or operator2 == '-' or operator2 == '/' or operator2 == '*' ):\n",
        "          num1=result\n",
        "          operator1=operator2\n",
        "        else:\n",
        "          break\n",
        "    if (operator1 == '='):\n",
        "      print(num1)\n",
        "      break\n",
        "    else:\n",
        "      print(\"Not vaild operator\")\n",
        "      break\n"
      ],
      "execution_count": 116,
      "outputs": []
    },
    {
      "cell_type": "code",
      "metadata": {
        "colab": {
          "base_uri": "https://localhost:8080/"
        },
        "id": "MWpO2yUluM0D",
        "outputId": "de1aec1a-8183-4aa8-9813-b6c11f206209"
      },
      "source": [
        "calculator()"
      ],
      "execution_count": 119,
      "outputs": [
        {
          "output_type": "stream",
          "text": [
            "Enter number : 3\n",
            "Enter operator + or - or * or / or = : +\n",
            "Enter number : 4\n",
            "Enter operator + or - or * or / or = : 4\n",
            "Not vaild operator\n"
          ],
          "name": "stdout"
        }
      ]
    },
    {
      "cell_type": "code",
      "metadata": {
        "id": "O8o1Gjt6ER76"
      },
      "source": [
        ""
      ],
      "execution_count": null,
      "outputs": []
    }
  ]
}